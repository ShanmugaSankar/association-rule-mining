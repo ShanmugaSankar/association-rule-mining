{
 "cells": [
  {
   "cell_type": "markdown",
   "id": "d8dd82b1",
   "metadata": {},
   "source": [
    "# Brute Force Algorithim"
   ]
  },
  {
   "cell_type": "code",
   "execution_count": 1,
   "id": "adae3a80",
   "metadata": {},
   "outputs": [],
   "source": [
    "import pandas as pd\n",
    "import numpy as np\n",
    "from itertools import chain,combinations\n",
    "import time"
   ]
  },
  {
   "cell_type": "code",
   "execution_count": 2,
   "id": "f7010fca",
   "metadata": {},
   "outputs": [],
   "source": [
    "def readData(path):\n",
    "    '''\n",
    "    Function to read csv file containing the transactions\n",
    "    \n",
    "    Parameters:-\n",
    "    path - Location of the input file\n",
    "    \n",
    "    '''\n",
    "    transactionData = pd.read_csv(path, header = None)\n",
    "    return transactionData"
   ]
  },
  {
   "cell_type": "code",
   "execution_count": 3,
   "id": "8456e02f",
   "metadata": {},
   "outputs": [],
   "source": [
    "def frequency(transactionData,support):\n",
    "    '''Fucntion to determine the frequent items in the transaction database\n",
    "    \n",
    "    Parameters:-\n",
    "    transactionData - Single column dataframe containing all the transactions\n",
    "    support         - User determined support level for generating itemsets\n",
    "    \n",
    "    '''\n",
    "    \n",
    "    ## Extract transaction information from dataframe to a list\n",
    "    Transactions = []\n",
    "    for i in range(len(transactionData)):\n",
    "        Transactions.append(transactionData[0][i].split(\",\"))\n",
    "    \n",
    "    ## Initialize dictionaries to store frequent itemsets\n",
    "    FrequentItemSets = {}\n",
    "    BruteForce = {}\n",
    "    \n",
    "    ## Calculate total no. of occurrences of items among all transactions\n",
    "    for i,items in enumerate(Transactions):\n",
    "        for j in range(len(items)):\n",
    "            if items[j] in FrequentItemSets:\n",
    "                FrequentItemSets[items[j]] += 1\n",
    "            else:\n",
    "                FrequentItemSets[items[j]] = 1\n",
    "\n",
    "    association = []\n",
    "    nonFrequent = []\n",
    "    \n",
    "    ## Assign items to the lists depending on whether they meet the minimum support\n",
    "    for i in FrequentItemSets:\n",
    "        if FrequentItemSets[i]/len(Transactions) >= support:\n",
    "            association.append(i)\n",
    "        else:\n",
    "            nonFrequent.append(i)\n",
    "    \n",
    "    ## List of all items\n",
    "    for x in nonFrequent:\n",
    "        association.append(x)\n",
    "    \n",
    "    ## Delete all items which do not meet the minimum support requirement\n",
    "    for i in nonFrequent:\n",
    "        del FrequentItemSets[i]\n",
    "\n",
    "    n_combinations = list(combinations(association,2))\n",
    "    return n_combinations,Transactions,FrequentItemSets,BruteForce"
   ]
  },
  {
   "cell_type": "code",
   "execution_count": 4,
   "id": "a765cff9",
   "metadata": {},
   "outputs": [],
   "source": [
    "def support_level(n_combinations,support,Transactions,BruteForce):\n",
    "    '''\n",
    "    Function to determine all itemset combinations which meet the minimum support\n",
    "    \n",
    "    Parameters:-\n",
    "    n_combinations - List of all itemset combinations meeting the support requirement\n",
    "    support        - User determined support level for generating itemsets\n",
    "    Transaction    - List containing all transactions\n",
    "    BruteForce - Dictionary containing all itemsets meeting support level\n",
    "    \n",
    "    '''\n",
    "    \n",
    "    ## Loop to generate itemsets as long as they meet support requirements\n",
    "    while len(n_combinations) > 0:\n",
    "        itemSets = []\n",
    "        for i in n_combinations:\n",
    "            count = 0\n",
    "            for j in range(len(Transactions)):\n",
    "                if set(i).issubset(Transactions[j]) == True: ## for itemsets present in transactions, increase count\n",
    "                     count += 1\n",
    "            if count/len(Transactions) >= support:           ## if itemset meets minimum support add it to dictionary\n",
    "                itemSets.append(i)\n",
    "                BruteForce[tuple(sorted(i))] = count\n",
    "        \n",
    "        itemSets = n_combinations\n",
    "        \n",
    "        addition = []\n",
    "        \n",
    "        ## Loop to generate (n+1)th itemset\n",
    "        for i in range(len(itemSets)):\n",
    "            j = len(itemSets) - 1\n",
    "            while j > i:                                     ## Generating (n+1)th itemset, eg. (A,B),(A,C) => (A,B,C)\n",
    "                if len(list(set(itemSets[i]) - set(itemSets[j]))) == 1 and set(itemSets[i]).intersection(set(itemSets[j])) != set():\n",
    "                    addition.append(tuple(sorted(set(itemSets[i]).intersection(set(itemSets[j])).union(set(itemSets[i]).symmetric_difference(set(itemSets[j]))))))\n",
    "                j -= 1\n",
    "        ## List of new itemsets for which support levels need to be checked        \n",
    "        n_combinations = list(frozenset(sorted(sub)) for sub in set(sorted(addition)))\n",
    "        \n",
    "    return BruteForce"
   ]
  },
  {
   "cell_type": "code",
   "execution_count": 5,
   "id": "f8f312b3",
   "metadata": {},
   "outputs": [],
   "source": [
    "def confidence_level(BruteForce,FrequentItemSets,Transactions,confidence,support):\n",
    "    '''\n",
    "    Function to generate the support and confidence levels of itemsets which meet user defined requirements\n",
    "    \n",
    "    Parameters:-\n",
    "    BruteForce       -  Dictionary containing frequent itemsets\n",
    "    FrequentItemSets -  Dictionary containing frequent items\n",
    "    Transactions     -  List containing all transactions\n",
    "    confidence       -  User determined confidence level for generating itemsets\n",
    "    support          -  User determined support level for generating itemsets\n",
    "    \n",
    "    '''\n",
    "    ## iterate over itemsets which are greater than minimum support level\n",
    "    for i,combination in enumerate(BruteForce):  \n",
    "    ## iterate to get association of 1 item to the rest of the set\n",
    "        for j in combination:\n",
    "            ## for 2-itemsets\n",
    "            if len(set(combination) - set((j,))) == 1:\n",
    "                BaseGroup = list(set(combination) - set((j,)),)[0]\n",
    "                ## calculate support and confidence level\n",
    "                confidenceCalculation  = BruteForce.get(combination)/FrequentItemSets.get(BaseGroup)\n",
    "                supportLevel = BruteForce.get(combination)/len(Transactions)\n",
    "                ## print valid associations\n",
    "                if confidenceCalculation >= confidence and supportLevel >= support:\n",
    "                    print(set((BaseGroup,)),\"=>\",\"{\",j,\"}\",\"(\",supportLevel*100,\"%,\",confidenceCalculation*100,\"%\",\")\")\n",
    "            ## for n-itemsets, where n > 2\n",
    "            else:\n",
    "                BaseGroup = tuple(set(combination) - set((j,)))\n",
    "                ## calculate support and confidence level\n",
    "                confidenceCalculation  = BruteForce.get(combination)/BruteForce.get(tuple(sorted(BaseGroup)))\n",
    "                supportLevel = BruteForce.get(combination)/len(Transactions)\n",
    "                ## print valid associations\n",
    "                if confidenceCalculation >= confidence and supportLevel >= support:\n",
    "                    print(set(BaseGroup),\"=>\",\"{\",j,\"}\",\"(\",supportLevel*100,\"%,\",confidenceCalculation*100,\"%\",\")\")\n",
    "                \n",
    "            FrequentItemSets[combination] = BruteForce.get(combination)"
   ]
  },
  {
   "cell_type": "code",
   "execution_count": 6,
   "id": "f944e963",
   "metadata": {},
   "outputs": [],
   "source": [
    "def BruteForce(support,confidence,path):\n",
    "    '''\n",
    "    Function to execute Brute Force Algorithim\n",
    "    \n",
    "    Parameters:-\n",
    "    support     -  User determined support level for generating itemsets\n",
    "    confidence  -  User determined confidence level for generating itemsets\n",
    "    path        -  Location of the input file\n",
    "    \n",
    "    '''\n",
    "    \n",
    "    transactionData = readData(path)\n",
    "    n_combinations,Transactions,FrequentItemSets,AprioriResults = frequency(transactionData,support)\n",
    "    AprioriResults = support_level(n_combinations,support,Transactions,AprioriResults)\n",
    "    return confidence_level(AprioriResults,FrequentItemSets,Transactions,confidence,support)"
   ]
  },
  {
   "cell_type": "markdown",
   "id": "9c0110ba",
   "metadata": {},
   "source": [
    "## Brute Force Algorithm Execution on Datasets"
   ]
  },
  {
   "cell_type": "code",
   "execution_count": 15,
   "id": "2e2c62f8",
   "metadata": {},
   "outputs": [
    {
     "name": "stdout",
     "output_type": "stream",
     "text": [
      "{'Tomato'} => { Onion } ( 25.0 %, 83.33333333333334 % )\n",
      "{'Onion'} => { Tomato } ( 25.0 %, 83.33333333333334 % )\n",
      "{'Milk'} => { Onion } ( 15.0 %, 75.0 % )\n",
      "{'Shoes'} => { Shirt } ( 25.0 %, 83.33333333333334 % )\n",
      "{'Shirt'} => { Shoes } ( 25.0 %, 100.0 % )\n",
      "{'WetWipes'} => { Shoes } ( 15.0 %, 100.0 % )\n",
      "{'Sunscreen'} => { Shoes } ( 15.0 %, 100.0 % )\n",
      "{'LightBulb'} => { Heater } ( 20.0 %, 80.0 % )\n",
      "{'Heater'} => { LightBulb } ( 20.0 %, 80.0 % )\n",
      "{'HardDisk'} => { Heater } ( 15.0 %, 100.0 % )\n",
      "{'HardDisk'} => { LightBulb } ( 15.0 %, 100.0 % )\n",
      "{'Mouse'} => { LightBulb } ( 15.0 %, 75.0 % )\n",
      "{'Heater', 'LightBulb'} => { HardDisk } ( 15.0 %, 75.0 % )\n",
      "{'HardDisk', 'LightBulb'} => { Heater } ( 15.0 %, 100.0 % )\n",
      "{'Heater', 'HardDisk'} => { LightBulb } ( 15.0 %, 100.0 % )\n",
      "{'Tomato', 'Eggs'} => { Onion } ( 15.0 %, 75.0 % )\n",
      "{'Onion', 'Eggs'} => { Tomato } ( 15.0 %, 75.0 % )\n",
      "Time to execute Brute Force Algorithim --- 1629.5015213489532 seconds\n"
     ]
    }
   ],
   "source": [
    "## Executing Brute Force Algorithm on Dataset 1\n",
    "start_time = time.time()\n",
    "BruteForce(.15,.70,\"C:/Users/Shank/Desktop/NJIT/CourseMaterial/Spring2022/DataMining/MidTermProject/WorkingDirectory/TransactionDatabase/Database1.csv\")\n",
    "print(\"Time to execute Brute Force Algorithim --- %s seconds\" % (time.time() - start_time))"
   ]
  },
  {
   "cell_type": "code",
   "execution_count": 11,
   "id": "4f262455",
   "metadata": {
    "scrolled": false
   },
   "outputs": [
    {
     "name": "stdout",
     "output_type": "stream",
     "text": [
      "{'Eggs'} => { Milk } ( 25.0 %, 83.33333333333334 % )\n",
      "{'Eggs'} => { Tomato } ( 20.0 %, 66.66666666666666 % )\n",
      "{'Tomato'} => { Milk } ( 25.0 %, 71.42857142857143 % )\n",
      "{'Onion'} => { Tomato } ( 20.0 %, 100.0 % )\n",
      "{'ChickenBreast'} => { Tomato } ( 20.0 %, 80.0 % )\n",
      "{'Shorts'} => { Shirt } ( 15.0 %, 100.0 % )\n",
      "{'Shirt'} => { Shorts } ( 15.0 %, 75.0 % )\n",
      "{'Shoes'} => { Shirt } ( 20.0 %, 100.0 % )\n",
      "{'Shirt'} => { Shoes } ( 20.0 %, 100.0 % )\n",
      "{'Shorts'} => { Shoes } ( 15.0 %, 100.0 % )\n",
      "{'Shoes'} => { Shorts } ( 15.0 %, 75.0 % )\n",
      "{'Chips'} => { MangoJuice } ( 15.0 %, 75.0 % )\n",
      "{'WetWipes'} => { Sunscreen } ( 15.0 %, 75.0 % )\n",
      "{'Sunscreen'} => { WetWipes } ( 15.0 %, 75.0 % )\n",
      "{'WetWipes'} => { ShavingCream } ( 15.0 %, 75.0 % )\n",
      "{'ShavingCream'} => { WetWipes } ( 15.0 %, 75.0 % )\n",
      "{'ShavingCream'} => { Moisturizer } ( 15.0 %, 75.0 % )\n",
      "{'Moisturizer'} => { ShavingCream } ( 15.0 %, 75.0 % )\n",
      "{'Chocolates'} => { MangoJuice } ( 15.0 %, 100.0 % )\n",
      "{'Tomato', 'Eggs'} => { Milk } ( 15.0 %, 75.0 % )\n",
      "{'ChickenBreast', 'Tomato'} => { Milk } ( 15.0 %, 75.0 % )\n",
      "{'ChickenBreast', 'Milk'} => { Tomato } ( 15.0 %, 100.0 % )\n",
      "{'Shoes', 'Shorts'} => { Shirt } ( 15.0 %, 100.0 % )\n",
      "{'Shorts', 'Shirt'} => { Shoes } ( 15.0 %, 100.0 % )\n",
      "{'Shoes', 'Shirt'} => { Shorts } ( 15.0 %, 75.0 % )\n",
      "Time to execute Brute Force Algorithim --- 401.06504249572754 seconds\n"
     ]
    }
   ],
   "source": [
    "## Executing Brute Force Algorithm on Dataset 2\n",
    "start_time = time.time()\n",
    "BruteForce(.15,.65,\"C:/Users/Shank/Desktop/NJIT/CourseMaterial/Spring2022/DataMining/MidTermProject/WorkingDirectory/TransactionDatabase/Database2.csv\")\n",
    "print(\"Time to execute Brute Force Algorithim --- %s seconds\" % (time.time() - start_time))"
   ]
  },
  {
   "cell_type": "code",
   "execution_count": 13,
   "id": "1bebcfc8",
   "metadata": {},
   "outputs": [
    {
     "name": "stdout",
     "output_type": "stream",
     "text": [
      "{'Milk'} => { Eggs } ( 35.0 %, 87.5 % )\n",
      "{'Eggs'} => { Milk } ( 35.0 %, 87.5 % )\n",
      "{'Onion'} => { Eggs } ( 20.0 %, 100.0 % )\n",
      "{'Onion'} => { Milk } ( 15.0 %, 75.0 % )\n",
      "{'Onion'} => { Tomato } ( 15.0 %, 75.0 % )\n",
      "{'Chocolates'} => { Banana } ( 15.0 %, 100.0 % )\n",
      "{'Mouse'} => { HardDisk } ( 15.0 %, 100.0 % )\n",
      "{'HardDisk'} => { Mouse } ( 15.0 %, 75.0 % )\n",
      "{'Mouse'} => { Heater } ( 15.0 %, 100.0 % )\n",
      "{'Heater'} => { Mouse } ( 15.0 %, 75.0 % )\n",
      "{'Heater'} => { HardDisk } ( 20.0 %, 100.0 % )\n",
      "{'HardDisk'} => { Heater } ( 20.0 %, 100.0 % )\n",
      "{'LightBulb'} => { HardDisk } ( 15.0 %, 100.0 % )\n",
      "{'HardDisk'} => { LightBulb } ( 15.0 %, 75.0 % )\n",
      "{'LightBulb'} => { Heater } ( 15.0 %, 100.0 % )\n",
      "{'Heater'} => { LightBulb } ( 15.0 %, 75.0 % )\n",
      "{'Heater', 'LightBulb'} => { HardDisk } ( 15.0 %, 100.0 % )\n",
      "{'HardDisk', 'LightBulb'} => { Heater } ( 15.0 %, 100.0 % )\n",
      "{'Heater', 'HardDisk'} => { LightBulb } ( 15.0 %, 75.0 % )\n",
      "{'Tomato', 'Onion'} => { Eggs } ( 15.0 %, 100.0 % )\n",
      "{'Tomato', 'Eggs'} => { Onion } ( 15.0 %, 75.0 % )\n",
      "{'Onion', 'Eggs'} => { Tomato } ( 15.0 %, 75.0 % )\n",
      "{'Tomato', 'Milk'} => { Eggs } ( 15.0 %, 75.0 % )\n",
      "{'Tomato', 'Eggs'} => { Milk } ( 15.0 %, 75.0 % )\n",
      "{'Mouse', 'Heater'} => { HardDisk } ( 15.0 %, 100.0 % )\n",
      "{'Mouse', 'HardDisk'} => { Heater } ( 15.0 %, 100.0 % )\n",
      "{'Heater', 'HardDisk'} => { Mouse } ( 15.0 %, 75.0 % )\n",
      "{'Milk', 'MangoJuice'} => { Eggs } ( 15.0 %, 100.0 % )\n",
      "{'MangoJuice', 'Eggs'} => { Milk } ( 15.0 %, 100.0 % )\n",
      "{'Milk', 'Onion'} => { Eggs } ( 15.0 %, 100.0 % )\n",
      "{'Onion', 'Eggs'} => { Milk } ( 15.0 %, 75.0 % )\n",
      "Time to execute Brute Force Algorithim --- 99.7733805179596 seconds\n"
     ]
    }
   ],
   "source": [
    "## Executing Brute Force Algorithm on Dataset 3\n",
    "start_time = time.time()\n",
    "BruteForce(.15,.75,\"C:/Users/Shank/Desktop/NJIT/CourseMaterial/Spring2022/DataMining/MidTermProject/WorkingDirectory/TransactionDatabase/Database3.csv\")\n",
    "print(\"Time to execute Brute Force Algorithim --- %s seconds\" % (time.time() - start_time))"
   ]
  },
  {
   "cell_type": "code",
   "execution_count": 16,
   "id": "aa6960c7",
   "metadata": {},
   "outputs": [
    {
     "name": "stdout",
     "output_type": "stream",
     "text": [
      "{'Lamp'} => { Bed } ( 15.0 %, 75.0 % )\n",
      "{'Bedsheet'} => { Bed } ( 15.0 %, 75.0 % )\n",
      "{'Pillow'} => { Bed } ( 15.0 %, 100.0 % )\n",
      "{'Desk'} => { Chair } ( 15.0 %, 75.0 % )\n",
      "{'Chair'} => { Desk } ( 15.0 %, 60.0 % )\n",
      "{'PillowCover'} => { Bedsheet } ( 15.0 %, 100.0 % )\n",
      "{'Bedsheet'} => { PillowCover } ( 15.0 %, 75.0 % )\n",
      "{'Pen'} => { Notebook } ( 20.0 %, 66.66666666666666 % )\n",
      "{'Notebook'} => { Pen } ( 20.0 %, 100.0 % )\n",
      "{'Ruler'} => { Pen } ( 15.0 %, 75.0 % )\n",
      "{'StickyNotes'} => { Pen } ( 15.0 %, 75.0 % )\n",
      "{'StickyNotes'} => { Ruler } ( 15.0 %, 75.0 % )\n",
      "{'Ruler'} => { StickyNotes } ( 15.0 %, 75.0 % )\n",
      "{'WaterBottle'} => { Milk } ( 15.0 %, 60.0 % )\n",
      "{'Milk'} => { WaterBottle } ( 15.0 %, 75.0 % )\n",
      "{'WaterBottle'} => { Water } ( 15.0 %, 60.0 % )\n",
      "{'Water'} => { WaterBottle } ( 15.0 %, 100.0 % )\n",
      "{'WaterBottle'} => { MangoJuice } ( 20.0 %, 80.0 % )\n",
      "{'MangoJuice'} => { WaterBottle } ( 20.0 %, 80.0 % )\n",
      "{'Milk'} => { MangoJuice } ( 15.0 %, 75.0 % )\n",
      "{'MangoJuice'} => { Milk } ( 15.0 %, 60.0 % )\n",
      "{'MangoJuice'} => { Chocolates } ( 15.0 %, 60.0 % )\n",
      "{'Chocolates'} => { MangoJuice } ( 15.0 %, 100.0 % )\n",
      "Time to execute Brute Force Algorithim --- 1572.456295967102 seconds\n"
     ]
    }
   ],
   "source": [
    "## Executing Brute Force Algorithm on Dataset 4\n",
    "start_time = time.time()\n",
    "BruteForce(.15,.60,\"C:/Users/Shank/Desktop/NJIT/CourseMaterial/Spring2022/DataMining/MidTermProject/WorkingDirectory/TransactionDatabase/Database4.csv\")\n",
    "print(\"Time to execute Brute Force Algorithim --- %s seconds\" % (time.time() - start_time))"
   ]
  },
  {
   "cell_type": "code",
   "execution_count": 17,
   "id": "bac85f14",
   "metadata": {
    "scrolled": false
   },
   "outputs": [
    {
     "name": "stdout",
     "output_type": "stream",
     "text": [
      "{'Milk'} => { Eggs } ( 15.0 %, 75.0 % )\n",
      "{'Eggs'} => { Milk } ( 15.0 %, 75.0 % )\n",
      "{'Chocolates'} => { Chips } ( 30.0 %, 85.71428571428571 % )\n",
      "{'Chips'} => { Chocolates } ( 30.0 %, 100.0 % )\n",
      "{'Onion'} => { Banana } ( 15.0 %, 100.0 % )\n",
      "{'Tomato'} => { Banana } ( 15.0 %, 100.0 % )\n",
      "{'Oil'} => { Water } ( 15.0 %, 100.0 % )\n",
      "{'ShavingCream'} => { RazerBlades } ( 20.0 %, 80.0 % )\n",
      "{'RazerBlades'} => { ShavingCream } ( 20.0 %, 80.0 % )\n",
      "{'RazerBlades'} => { Sunscreen } ( 20.0 %, 80.0 % )\n",
      "{'WetWipes'} => { RazerBlades } ( 20.0 %, 66.66666666666666 % )\n",
      "{'RazerBlades'} => { WetWipes } ( 20.0 %, 80.0 % )\n",
      "{'ShavingCream'} => { Sunscreen } ( 20.0 %, 80.0 % )\n",
      "{'WetWipes'} => { Sunscreen } ( 25.0 %, 83.33333333333334 % )\n",
      "{'Moistuerizer'} => { Sunscreen } ( 20.0 %, 100.0 % )\n",
      "{'Moistuerizer'} => { WetWipes } ( 15.0 %, 75.0 % )\n",
      "{'WetWipes', 'RazerBlades'} => { Sunscreen } ( 15.0 %, 75.0 % )\n",
      "{'Sunscreen', 'RazerBlades'} => { WetWipes } ( 15.0 %, 75.0 % )\n",
      "{'WetWipes', 'Moistuerizer'} => { Sunscreen } ( 15.0 %, 100.0 % )\n",
      "{'Sunscreen', 'Moistuerizer'} => { WetWipes } ( 15.0 %, 75.0 % )\n",
      "{'Chocolates', 'MangoJuice'} => { Chips } ( 15.0 %, 100.0 % )\n",
      "{'Chips', 'MangoJuice'} => { Chocolates } ( 15.0 %, 100.0 % )\n",
      "{'ShavingCream', 'WetWipes'} => { RazerBlades } ( 15.0 %, 100.0 % )\n",
      "{'WetWipes', 'RazerBlades'} => { ShavingCream } ( 15.0 %, 75.0 % )\n",
      "{'ShavingCream', 'RazerBlades'} => { WetWipes } ( 15.0 %, 75.0 % )\n",
      "{'Chocolates', 'Water'} => { Chips } ( 15.0 %, 100.0 % )\n",
      "{'Chips', 'Water'} => { Chocolates } ( 15.0 %, 100.0 % )\n",
      "{'ShavingCream', 'Sunscreen'} => { RazerBlades } ( 15.0 %, 75.0 % )\n",
      "{'Sunscreen', 'RazerBlades'} => { ShavingCream } ( 15.0 %, 75.0 % )\n",
      "{'ShavingCream', 'RazerBlades'} => { Sunscreen } ( 15.0 %, 75.0 % )\n",
      "Time to execute Brute Force Algorithim --- 98.03988337516785 seconds\n"
     ]
    }
   ],
   "source": [
    "## Executing Brute Force Algorithm on Dataset 5\n",
    "start_time = time.time()\n",
    "BruteForce(.15,.65,\"C:/Users/Shank/Desktop/NJIT/CourseMaterial/Spring2022/DataMining/MidTermProject/WorkingDirectory/TransactionDatabase/Database5.csv\")\n",
    "print(\"Time to execute Brute Force Algorithim --- %s seconds\" % (time.time() - start_time))"
   ]
  },
  {
   "cell_type": "code",
   "execution_count": null,
   "id": "af74c09b",
   "metadata": {},
   "outputs": [],
   "source": []
  }
 ],
 "metadata": {
  "kernelspec": {
   "display_name": "Python 3",
   "language": "python",
   "name": "python3"
  },
  "language_info": {
   "codemirror_mode": {
    "name": "ipython",
    "version": 3
   },
   "file_extension": ".py",
   "mimetype": "text/x-python",
   "name": "python",
   "nbconvert_exporter": "python",
   "pygments_lexer": "ipython3",
   "version": "3.8.8"
  }
 },
 "nbformat": 4,
 "nbformat_minor": 5
}
